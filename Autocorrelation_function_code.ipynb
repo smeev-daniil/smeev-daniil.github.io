import numpy as np
from scipy.constants import mu_0
from scipy.constants import physical_constants
import matplotlib.pyplot as plt

# Parameters
n = 10**28  
r0 = 20*10**(-6)
lattice_constant = 2 * r0  
num_grid_points = 1
proton_mag_mom = physical_constants['proton mag. mom.'][0]

# Define the magnetic dipole moment aligned along the z-axis
def magnetic_dipole_moment(n, r0):
    volume = (4/3) * np.pi * r0**3
    total_protons = n * volume
    M_magnitude = total_protons * proton_mag_mom
    return M_magnitude

# Define the magnetic field due to a dipole
def magnetic_field_dipole(r, M):
    r_magnitude = np.linalg.norm(r)
    if r_magnitude == 0:
        return np.array([0, 0, 0])  # Avoid division by zero

    r_unit = r / r_magnitude
    dot_product = np.dot(M, r_unit)
    B = (mu_0 / (4 * np.pi * r_magnitude**3)) * (3 * dot_product * r_unit - M)
    return B

# Define the magnetic field at any point within the cavity
def magnetic_field_in_cavity(lattice_constant, M, positions, point):
    B_total = np.array([0.0, 0.0, 0.0])
    
    for pos in positions:
        r = point - pos  # Vector from the dipole to the point of interest
        B_total += magnetic_field_dipole(r, M)
    
    return B_total

# Generate random points on a sphere of given radius around the origin
def random_points_on_sphere(radius, num_points=100):
    vec = np.random.randn(num_points, 3)  # Random normal distribution
    vec /= np.linalg.norm(vec, axis=1)[:, np.newaxis]  # Normalize to unit vectors
    return radius * vec  # Scale by the radius

# Check if a point is within any sphere in the lattice
def is_within_spheres(point, positions, r0):
    return any(np.linalg.norm(point - pos) < r0 for pos in positions)

# Calculate the autocorrelation function for given radius-vector magnitude
def calculate_autocorrelation_for_radius(r_magnitude, grid_points, lattice_constant, M, positions, r0):
    autocorr = 0.0
    valid_point_count = 0  # To count valid points for averaging
    
    for point in grid_points:
        points_on_sphere = random_points_on_sphere(r_magnitude) + point
        
        for sphere_point in points_on_sphere:
            if not is_within_spheres(sphere_point, positions, r0):
                B1 = magnetic_field_in_cavity(lattice_constant, M, positions, point)
                B2 = magnetic_field_in_cavity(lattice_constant, M, positions, sphere_point)
                autocorr += np.dot(B1, B2)
                valid_point_count += 1
    
    if valid_point_count > 0:
        autocorr /= valid_point_count  # Normalize by the number of valid points
    return autocorr

# Main function to generate the plot of the autocorrelation function
def plot_autocorrelation_function(n, r0, num_grid_points=1000):
    lattice_constant = 2 * r0  # Lattice constant (distance between spheres)
    M = magnetic_dipole_moment(n, r0)  # Magnetic dipole moment

# Magnetic dipole moment of a single particle
M_magnitude = magnetic_dipole_moment(n, r0)
M = np.array([0, 0, M_magnitude])  # Assume dipole moment is along z-axis

# Positions of 8 spheres in a cubic lattice centered around origin
positions = [
    np.array([lattice_constant/2, lattice_constant/2, lattice_constant/2]),
    np.array([-lattice_constant/2, lattice_constant/2, lattice_constant/2]),
    np.array([lattice_constant/2, -lattice_constant/2, lattice_constant/2]),
    np.array([-lattice_constant/2, -lattice_constant/2, lattice_constant/2]),
    np.array([lattice_constant/2, lattice_constant/2, -lattice_constant/2]),
    np.array([-lattice_constant/2, lattice_constant/2, -lattice_constant/2]),
    np.array([lattice_constant/2, -lattice_constant/2, -lattice_constant/2]),
    np.array([-lattice_constant/2, -lattice_constant/2, -lattice_constant/2])
]


"""
Here, the grid of a 1000 of random points within the cavity is defined.

First, '.seed(0)' is used so every time the code is run the program chose
the same set of points, so the results might be reproducible.

Second, number of points is set.

Third, the grid is created within a cube [-a/2; a/2]^3.
"""
np.random.seed(0)
num_points = num_grid_points*10
grid_points = lattice_constant * (np.random.rand(num_points, 3) - 0.5)

# Filtering grid points to keep only those outside all the spheres (in the cavity)
filtered_grid_points = []
for point in grid_points:
    if not is_within_spheres(point, positions, r0):
        filtered_grid_points.append(point)

# Selecting a subset of points for the calculation
filtered_grid_points = np.array(filtered_grid_points[:num_grid_points])

# Creating an array of radius-vector magnitudes
radius_magnitudes = np.linspace(0, lattice_constant, 100)

# Calculating the autocorrelation function for each radius-vector magnitude
autocorrelation_values = []
for r_magnitude in radius_magnitudes:
    if r_magnitude == 0:
        autocorrelation_values.append(1.0)  # Autocorrelation at r=0 is 1
    else:
        autocorr = calculate_autocorrelation_for_radius(r_magnitude, filtered_grid_points, lattice_constant, M, positions, r0)
        autocorrelation_values.append(autocorr)


plt.plot(radius_magnitudes, autocorrelation_values)
plt.xlabel('Radius-Vector Magnitude (m)')
plt.ylabel('Autocorrelation Function')
plt.title('Autocorrelation Function of Magnetic Field in the Cavity')
plt.grid(True)
plt.show()


plot_autocorrelation_function(n, r0)
